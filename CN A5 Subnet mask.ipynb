{
 "cells": [
  {
   "cell_type": "code",
   "execution_count": 3,
   "id": "3c1c8eba",
   "metadata": {},
   "outputs": [
    {
     "name": "stdout",
     "output_type": "stream",
     "text": [
      "Enter the ip address: 173.283.0.1\n",
      "Given IP address belongs to class :  B\n",
      "Network Address is :  173.283\n",
      "Host Address is :  0.1\n"
     ]
    }
   ],
   "source": [
    "#TODO1: function to determine the class of an Ip address\n",
    "def findClass(ip):\n",
    "  if(ip[0] >= 0 and ip[0] <= 127):\n",
    "    return \"A\"\n",
    "   \n",
    "  elif(ip[0] >=128 and ip[0] <= 191):\n",
    "    return \"B\"\n",
    "   \n",
    "  elif(ip[0] >= 192 and ip[0] <= 223):\n",
    "    return \"C\"\n",
    "   \n",
    "  elif(ip[0] >= 224 and ip[0] <= 239):\n",
    "    return \"D\"\n",
    "   \n",
    "  else:\n",
    "    return \"E\"\n",
    " \n",
    "#TODO2: function to separate network and host id from the given ip address\n",
    "def separate(ip, className):\n",
    "   \n",
    "  #for class A network\n",
    "  if(className == \"A\"):\n",
    "    print(\"Network Address is : \", ip[0])\n",
    "    print(\"Host Address is : \", \".\".join(ip[1:4]))\n",
    "     \n",
    "  #for class B network\n",
    "  elif(className == \"B\"):\n",
    "    print(\"Network Address is : \", \".\".join(ip[0:2]))\n",
    "    print(\"Host Address is : \", \".\".join(ip[2:4]))\n",
    "     \n",
    "  #for class C network\n",
    "  elif(className == \"C\"):\n",
    "    print(\"Network Address is : \", \".\".join(ip[0:3]))\n",
    "    print(\"Host Address is : \", ip[3])\n",
    "     \n",
    "  else:\n",
    "    print(\"In this Class, IP address is not divided into Network and Host ID\")\n",
    "   \n",
    "   \n",
    "#driver's code\n",
    "if __name__ == \"__main__\":\n",
    "   \n",
    "  ip = str(input(\"Enter the ip address: \"))\n",
    "  ip = ip.split(\".\")\n",
    "  ip = [int(i) for i in ip]\n",
    "   \n",
    "  #getting the network class\n",
    "  networkClass = findClass(ip)\n",
    "  print(\"Given IP address belongs to class : \", networkClass)\n",
    "   \n",
    "  #printing network and host id\n",
    "  ip = [str(i) for i in ip]\n",
    "  separate(ip, networkClass)"
   ]
  },
  {
   "cell_type": "code",
   "execution_count": null,
   "id": "5082c369",
   "metadata": {},
   "outputs": [],
   "source": []
  }
 ],
 "metadata": {
  "kernelspec": {
   "display_name": "Python 3 (ipykernel)",
   "language": "python",
   "name": "python3"
  },
  "language_info": {
   "codemirror_mode": {
    "name": "ipython",
    "version": 3
   },
   "file_extension": ".py",
   "mimetype": "text/x-python",
   "name": "python",
   "nbconvert_exporter": "python",
   "pygments_lexer": "ipython3",
   "version": "3.9.7"
  }
 },
 "nbformat": 4,
 "nbformat_minor": 5
}
